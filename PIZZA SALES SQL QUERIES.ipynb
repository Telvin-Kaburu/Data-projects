{
 "cells": [
  {
   "cell_type": "markdown",
   "metadata": {},
   "source": [
    "PIZZA SALES SQL QUERIES\n",
    "\n"
   ]
  },
  {
   "cell_type": "markdown",
   "metadata": {},
   "source": [
    "A. KPI’s\n"
   ]
  },
  {
   "cell_type": "markdown",
   "metadata": {},
   "source": [
    "1. Total Revenue:"
   ]
  },
  {
   "cell_type": "code",
   "execution_count": null,
   "metadata": {
    "vscode": {
     "languageId": "sql"
    }
   },
   "outputs": [],
   "source": [
    "SELECT SUM(total_price) AS Total_Revenue FROM pizza_sales;"
   ]
  },
  {
   "cell_type": "markdown",
   "metadata": {},
   "source": [
    "2. Average Order Value"
   ]
  },
  {
   "cell_type": "code",
   "execution_count": null,
   "metadata": {
    "vscode": {
     "languageId": "sql"
    }
   },
   "outputs": [],
   "source": [
    "SELECT (SUM(total_price) / COUNT(DISTINCT order_id)) AS Avg_order_Value FROM\n",
    "pizza_sales"
   ]
  },
  {
   "cell_type": "markdown",
   "metadata": {},
   "source": [
    "3. Total Pizzas Sold"
   ]
  },
  {
   "cell_type": "code",
   "execution_count": null,
   "metadata": {
    "vscode": {
     "languageId": "sql"
    }
   },
   "outputs": [],
   "source": [
    "SELECT SUM(quantity) AS Total_pizza_sold FROM pizza_sales"
   ]
  },
  {
   "cell_type": "markdown",
   "metadata": {},
   "source": [
    "4. Total Orders"
   ]
  },
  {
   "cell_type": "code",
   "execution_count": null,
   "metadata": {
    "vscode": {
     "languageId": "sql"
    }
   },
   "outputs": [],
   "source": [
    "SELECT COUNT(DISTINCT order_id) AS Total_Orders FROM pizza_sales\n"
   ]
  },
  {
   "cell_type": "markdown",
   "metadata": {},
   "source": [
    "5. Average Pizzas Per Order"
   ]
  },
  {
   "cell_type": "code",
   "execution_count": null,
   "metadata": {
    "vscode": {
     "languageId": "sql"
    }
   },
   "outputs": [],
   "source": [
    "SELECT CAST(CAST(SUM(quantity) AS DECIMAL(10,2)) /\n",
    "CAST(COUNT(DISTINCT order_id) AS DECIMAL(10,2)) AS DECIMAL(10,2))\n",
    "AS Avg_Pizzas_per_order\n",
    "FROM pizza_sales"
   ]
  },
  {
   "cell_type": "markdown",
   "metadata": {},
   "source": [
    "B. Daily Trend for Total Orders"
   ]
  },
  {
   "cell_type": "code",
   "execution_count": null,
   "metadata": {
    "vscode": {
     "languageId": "sql"
    }
   },
   "outputs": [],
   "source": [
    "SELECT DATENAME(DW, order_date) AS order_day, COUNT(DISTINCT order_id) AS\n",
    "total_orders\n",
    "FROM pizza_sales\n",
    "GROUP BY DATENAME(DW, order_date)"
   ]
  },
  {
   "cell_type": "markdown",
   "metadata": {},
   "source": [
    "C. Monthly Trend for Orders"
   ]
  },
  {
   "cell_type": "code",
   "execution_count": null,
   "metadata": {
    "vscode": {
     "languageId": "sql"
    }
   },
   "outputs": [],
   "source": [
    "select DATENAME(MONTH, order_date) as Month_Name, COUNT(DISTINCT order_id) as\n",
    "Total_Orders\n",
    "from pizza_sales\n",
    "GROUP BY DATENAME(MONTH, order_date)"
   ]
  },
  {
   "cell_type": "markdown",
   "metadata": {},
   "source": [
    "D. % of Sales by Pizza Category"
   ]
  },
  {
   "cell_type": "code",
   "execution_count": null,
   "metadata": {
    "vscode": {
     "languageId": "sql"
    }
   },
   "outputs": [],
   "source": [
    "SELECT pizza_category, CAST(SUM(total_price) AS DECIMAL(10,2)) as\n",
    "total_revenue,\n",
    "CAST(SUM(total_price) * 100 / (SELECT SUM(total_price) from pizza_sales) AS\n",
    "DECIMAL(10,2)) AS PCT\n",
    "FROM pizza_sales\n",
    "GROUP BY pizza_category"
   ]
  },
  {
   "cell_type": "markdown",
   "metadata": {},
   "source": [
    "E. % of Sales by Pizza Size"
   ]
  },
  {
   "cell_type": "code",
   "execution_count": null,
   "metadata": {
    "vscode": {
     "languageId": "sql"
    }
   },
   "outputs": [],
   "source": [
    "SELECT pizza_size, CAST(SUM(total_price) AS DECIMAL(10,2)) as total_revenue,\n",
    "CAST(SUM(total_price) * 100 / (SELECT SUM(total_price) from pizza_sales) AS\n",
    "DECIMAL(10,2)) AS PCT\n",
    "FROM pizza_sales\n",
    "GROUP BY pizza_size\n",
    "ORDER BY pizza_size"
   ]
  },
  {
   "cell_type": "markdown",
   "metadata": {},
   "source": [
    "F. Total Pizzas Sold by Pizza Category"
   ]
  },
  {
   "cell_type": "code",
   "execution_count": null,
   "metadata": {
    "vscode": {
     "languageId": "sql"
    }
   },
   "outputs": [],
   "source": [
    "SELECT pizza_category, SUM(quantity) as Total_Quantity_Sold\n",
    "FROM pizza_sales\n",
    "WHERE MONTH(order_date) = 2\n",
    "GROUP BY pizza_category\n",
    "ORDER BY Total_Quantity_Sold DESC"
   ]
  },
  {
   "cell_type": "markdown",
   "metadata": {},
   "source": [
    "G. Top 5 Pizzas by Revenue"
   ]
  },
  {
   "cell_type": "code",
   "execution_count": null,
   "metadata": {
    "vscode": {
     "languageId": "sql"
    }
   },
   "outputs": [],
   "source": [
    "SELECT Top 5 pizza_name, SUM(total_price) AS Total_Revenue\n",
    "FROM pizza_sales\n",
    "GROUP BY pizza_name\n",
    "ORDER BY Total_Revenue DES"
   ]
  },
  {
   "cell_type": "markdown",
   "metadata": {},
   "source": [
    "H. Bottom 5 Pizzas by Revenue"
   ]
  },
  {
   "cell_type": "code",
   "execution_count": null,
   "metadata": {
    "vscode": {
     "languageId": "sql"
    }
   },
   "outputs": [],
   "source": [
    "SELECT Top 5 pizza_name, SUM(total_price) AS Total_Revenue\n",
    "FROM pizza_sales\n",
    "GROUP BY pizza_name\n",
    "ORDER BY Total_Revenue ASC"
   ]
  },
  {
   "cell_type": "markdown",
   "metadata": {},
   "source": [
    "I. Top 5 Pizzas by Quantity"
   ]
  },
  {
   "cell_type": "code",
   "execution_count": null,
   "metadata": {
    "vscode": {
     "languageId": "sql"
    }
   },
   "outputs": [],
   "source": [
    "SELECT Top 5 pizza_name, SUM(quantity) AS Total_Pizza_Sold\n",
    "FROM pizza_sales\n",
    "GROUP BY pizza_name\n",
    "ORDER BY Total_Pizza_Sold DESC"
   ]
  },
  {
   "cell_type": "markdown",
   "metadata": {},
   "source": [
    "J. Bottom 5 Pizzas by Quantity"
   ]
  },
  {
   "cell_type": "code",
   "execution_count": null,
   "metadata": {
    "vscode": {
     "languageId": "sql"
    }
   },
   "outputs": [],
   "source": [
    "SELECT TOP 5 pizza_name, SUM(quantity) AS Total_Pizza_Sold\n",
    "FROM pizza_sales\n",
    "GROUP BY pizza_name\n",
    "ORDER BY Total_Pizza_Sold ASC"
   ]
  },
  {
   "cell_type": "markdown",
   "metadata": {},
   "source": [
    "K. Top 5 Pizzas by Total Orders\n"
   ]
  },
  {
   "cell_type": "code",
   "execution_count": null,
   "metadata": {
    "vscode": {
     "languageId": "sql"
    }
   },
   "outputs": [],
   "source": [
    "SELECT Top 5 pizza_name, COUNT(DISTINCT order_id) AS Total_Orders\n",
    "FROM pizza_sales\n",
    "GROUP BY pizza_name\n",
    "ORDER BY Total_Orders DESC\n"
   ]
  },
  {
   "cell_type": "markdown",
   "metadata": {},
   "source": [
    "L. Borrom 5 Pizzas by Total Orders\n"
   ]
  },
  {
   "cell_type": "code",
   "execution_count": null,
   "metadata": {
    "vscode": {
     "languageId": "sql"
    }
   },
   "outputs": [],
   "source": [
    "SELECT Top 5 pizza_name, COUNT(DISTINCT order_id) AS Total_Orders\n",
    "FROM pizza_sales\n",
    "GROUP BY pizza_name\n",
    "ORDER BY Total_Orders ASC\n"
   ]
  }
 ],
 "metadata": {
  "kernelspec": {
   "display_name": "base",
   "language": "python",
   "name": "python3"
  },
  "language_info": {
   "name": "python",
   "version": "3.12.3"
  }
 },
 "nbformat": 4,
 "nbformat_minor": 2
}
